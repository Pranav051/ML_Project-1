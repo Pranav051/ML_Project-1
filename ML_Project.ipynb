{
  "cells": [
    {
      "cell_type": "code",
      "execution_count": null,
      "id": "d39d6e3b",
      "metadata": {
        "colab": {
          "base_uri": "https://localhost:8080/"
        },
        "id": "d39d6e3b",
        "outputId": "d60ca5b5-93a0-4792-c9b2-2dca7fb19b39"
      },
      "outputs": [
        {
          "output_type": "execute_result",
          "data": {
            "text/plain": [
              "array(['Stock Market', 'stocks', 'Export Prices MoM', 'Earnings',\n",
              "       'Government Bond 10Y', 'Currency', 'Government Budget Value',\n",
              "       'Core Producer Prices MoM', 'Mortgage Applications',\n",
              "       'API Crude Oil Stock Change', 'Consumer Credit',\n",
              "       'Natural Gas Stocks Change', 'Unemployment Rate',\n",
              "       '30 Year Mortgage Rate', 'Crude Oil Stocks Change', 'Job Quits',\n",
              "       'Composite PMI', 'Services PMI', 'Exports', 'Imports',\n",
              "       'Initial Jobless Claims', 'Balance of Trade',\n",
              "       'Challenger Job Cuts', 'Mortgage Rate', 'Manufacturing PMI',\n",
              "       'Consumer Confidence', 'Chicago PMI',\n",
              "       'PCE Price Index Monthly Change', 'Personal Income',\n",
              "       'Core PCE Price Index MoM', 'PCE Price Index Annual Change',\n",
              "       'Corporate Profits', 'Interest Rate', 'Wholesale Inventories',\n",
              "       'Dallas Fed Services Index', 'Richmond Fed Manufacturing Index',\n",
              "       'Richmond Fed Services Index', 'House Price Index MoM',\n",
              "       'Case Shiller Home Price Index YoY', 'Building Permits',\n",
              "       'Kansas Fed Manufacturing Index',\n",
              "       'Chicago Fed National Activity Index', 'Current Account',\n",
              "       'Capital Flows', 'Business Inventories', 'Capacity Utilization',\n",
              "       'Manufacturing Production MoM', 'Industrial Production Mom',\n",
              "       'NY Empire State Manufacturing Index',\n",
              "       'Philadelphia Fed Manufacturing Index', 'currency',\n",
              "       'Services Inflation', 'Energy Inflation', 'Food Inflation',\n",
              "       'Core Inflation Rate', 'Inflation Rate MoM',\n",
              "       'Core Inflation Rate MoM', 'Inflation Expectations',\n",
              "       'Continuing Jobless Claims', 'stock market', 'Labour Costs',\n",
              "       'Dallas Fed Manufacturing Index', 'Goods Trade Balance',\n",
              "       'Core PCE Price Index Annual Change', 'Credit Rating',\n",
              "       'New Home Sales', 'Used Car Prices MoM', 'Youth Unemployment Rate',\n",
              "       'Productivity', 'GDP Annual Growth Rate', 'Existing Home Sales',\n",
              "       'Producer Prices Change', 'Rent Inflation',\n",
              "       'Average Hourly Earnings YoY', 'Economic Optimism Index',\n",
              "       'Construction Spending', 'Housing Starts', 'Import Prices MoM',\n",
              "       'Nahb Housing Market Index', 'Average Hourly Earnings',\n",
              "       '2 Year Note Yield', 'Lmi Logistics Managers Index Current',\n",
              "       'Total Vehicle Sales', 'Factory Orders', 'Full Year GDP Growth',\n",
              "       'Personal Spending', 'Nonfarm Payrolls Private',\n",
              "       'Personal Savings', 'Gasoline Stocks Change', 'Heating Oil Stocks',\n",
              "       'Distillate Stocks', 'Pending Home Sales MoM',\n",
              "       'Foreign Bond Investment', 'Industrial Production',\n",
              "       'Employment Cost Index', 'Durable Goods Orders',\n",
              "       'MBA Mortgage Market Index', 'Manufacturing Production',\n",
              "       'Michigan Inflation Expectations', 'NFIB Business Optimism Index',\n",
              "       'GDP Growth Rate', 'Inflation Rate', 'GDP', 'Forecast',\n",
              "       'Population', 'Business Confidence', 'News', 'Government Bond 2Y',\n",
              "       'Government Bond 3Y', 'Job Offers', 'Government Bond 52W',\n",
              "       'Non Defense Capital Goods Orders Ex Aircraft',\n",
              "       'Dallas Fed Services Revenues Index', 'FHFA House Price Index MoM',\n",
              "       '30 Year Bond Yield', 'Ism New York Index', 'Coronavirus Cases',\n",
              "       'Producer Price Inflation MoM', 'Coronavirus Deaths',\n",
              "       'Composite Pmi', 'Chicago Pmi', 'Pending Home Sales',\n",
              "       'ADP Employment Change', 'Labor Force Participation Rate',\n",
              "       'Retail Sales MoM', 'Non Farm Payrolls',\n",
              "       'Durable Goods Orders Ex Transportation', 'Manufacturing Payrolls',\n",
              "       'Non Manufacturing PMI', 'Government Budget', 'bond',\n",
              "       'Inflation Rate Mom', 'Labor Market Conditions Index',\n",
              "       '6 Month Bill Yield', 'Calendar', 'Manufacturing Pmi',\n",
              "       'Non Manufacturing Pmi', 'Balance Of Trade', 'Gdp Growth Rate',\n",
              "       'Retail Sales Mom', 'Report', 'Indicators', 'Other', 'Commodity'],\n",
              "      dtype=object)"
            ]
          },
          "metadata": {},
          "execution_count": 2
        }
      ],
      "source": [
        "import numpy as np\n",
        "import pandas as pd\n",
        "df=pd.read_csv('/content/sample_data/FinSen_US.csv')\n",
        "df['Tag'].unique()"
      ]
    },
    {
      "cell_type": "code",
      "execution_count": null,
      "id": "e5fdd74a",
      "metadata": {
        "colab": {
          "base_uri": "https://localhost:8080/",
          "height": 206
        },
        "id": "e5fdd74a",
        "outputId": "b5038231-2088-480a-866b-64a4b2e9e7cd"
      },
      "outputs": [
        {
          "output_type": "execute_result",
          "data": {
            "text/plain": [
              "            Tag                                            Content\n",
              "0  Stock Market  TSX Slightly Down, Books Weekly GainsUnited St...\n",
              "1        stocks  UnitedHealth Hits 4-week HighUnited States sto...\n",
              "2        stocks  Cisco Systems Hits 4-week LowUnited States sto...\n",
              "3        stocks  AT&T Hits All-time LowUnited States stocksAT&T...\n",
              "4        stocks  Microsoft Hits 4-week HighUnited States stocks..."
            ],
            "text/html": [
              "\n",
              "  <div id=\"df-03c8f1c5-3fe3-40f7-9f2c-2904c265712a\" class=\"colab-df-container\">\n",
              "    <div>\n",
              "<style scoped>\n",
              "    .dataframe tbody tr th:only-of-type {\n",
              "        vertical-align: middle;\n",
              "    }\n",
              "\n",
              "    .dataframe tbody tr th {\n",
              "        vertical-align: top;\n",
              "    }\n",
              "\n",
              "    .dataframe thead th {\n",
              "        text-align: right;\n",
              "    }\n",
              "</style>\n",
              "<table border=\"1\" class=\"dataframe\">\n",
              "  <thead>\n",
              "    <tr style=\"text-align: right;\">\n",
              "      <th></th>\n",
              "      <th>Tag</th>\n",
              "      <th>Content</th>\n",
              "    </tr>\n",
              "  </thead>\n",
              "  <tbody>\n",
              "    <tr>\n",
              "      <th>0</th>\n",
              "      <td>Stock Market</td>\n",
              "      <td>TSX Slightly Down, Books Weekly GainsUnited St...</td>\n",
              "    </tr>\n",
              "    <tr>\n",
              "      <th>1</th>\n",
              "      <td>stocks</td>\n",
              "      <td>UnitedHealth Hits 4-week HighUnited States sto...</td>\n",
              "    </tr>\n",
              "    <tr>\n",
              "      <th>2</th>\n",
              "      <td>stocks</td>\n",
              "      <td>Cisco Systems Hits 4-week LowUnited States sto...</td>\n",
              "    </tr>\n",
              "    <tr>\n",
              "      <th>3</th>\n",
              "      <td>stocks</td>\n",
              "      <td>AT&amp;T Hits All-time LowUnited States stocksAT&amp;T...</td>\n",
              "    </tr>\n",
              "    <tr>\n",
              "      <th>4</th>\n",
              "      <td>stocks</td>\n",
              "      <td>Microsoft Hits 4-week HighUnited States stocks...</td>\n",
              "    </tr>\n",
              "  </tbody>\n",
              "</table>\n",
              "</div>\n",
              "    <div class=\"colab-df-buttons\">\n",
              "\n",
              "  <div class=\"colab-df-container\">\n",
              "    <button class=\"colab-df-convert\" onclick=\"convertToInteractive('df-03c8f1c5-3fe3-40f7-9f2c-2904c265712a')\"\n",
              "            title=\"Convert this dataframe to an interactive table.\"\n",
              "            style=\"display:none;\">\n",
              "\n",
              "  <svg xmlns=\"http://www.w3.org/2000/svg\" height=\"24px\" viewBox=\"0 -960 960 960\">\n",
              "    <path d=\"M120-120v-720h720v720H120Zm60-500h600v-160H180v160Zm220 220h160v-160H400v160Zm0 220h160v-160H400v160ZM180-400h160v-160H180v160Zm440 0h160v-160H620v160ZM180-180h160v-160H180v160Zm440 0h160v-160H620v160Z\"/>\n",
              "  </svg>\n",
              "    </button>\n",
              "\n",
              "  <style>\n",
              "    .colab-df-container {\n",
              "      display:flex;\n",
              "      gap: 12px;\n",
              "    }\n",
              "\n",
              "    .colab-df-convert {\n",
              "      background-color: #E8F0FE;\n",
              "      border: none;\n",
              "      border-radius: 50%;\n",
              "      cursor: pointer;\n",
              "      display: none;\n",
              "      fill: #1967D2;\n",
              "      height: 32px;\n",
              "      padding: 0 0 0 0;\n",
              "      width: 32px;\n",
              "    }\n",
              "\n",
              "    .colab-df-convert:hover {\n",
              "      background-color: #E2EBFA;\n",
              "      box-shadow: 0px 1px 2px rgba(60, 64, 67, 0.3), 0px 1px 3px 1px rgba(60, 64, 67, 0.15);\n",
              "      fill: #174EA6;\n",
              "    }\n",
              "\n",
              "    .colab-df-buttons div {\n",
              "      margin-bottom: 4px;\n",
              "    }\n",
              "\n",
              "    [theme=dark] .colab-df-convert {\n",
              "      background-color: #3B4455;\n",
              "      fill: #D2E3FC;\n",
              "    }\n",
              "\n",
              "    [theme=dark] .colab-df-convert:hover {\n",
              "      background-color: #434B5C;\n",
              "      box-shadow: 0px 1px 3px 1px rgba(0, 0, 0, 0.15);\n",
              "      filter: drop-shadow(0px 1px 2px rgba(0, 0, 0, 0.3));\n",
              "      fill: #FFFFFF;\n",
              "    }\n",
              "  </style>\n",
              "\n",
              "    <script>\n",
              "      const buttonEl =\n",
              "        document.querySelector('#df-03c8f1c5-3fe3-40f7-9f2c-2904c265712a button.colab-df-convert');\n",
              "      buttonEl.style.display =\n",
              "        google.colab.kernel.accessAllowed ? 'block' : 'none';\n",
              "\n",
              "      async function convertToInteractive(key) {\n",
              "        const element = document.querySelector('#df-03c8f1c5-3fe3-40f7-9f2c-2904c265712a');\n",
              "        const dataTable =\n",
              "          await google.colab.kernel.invokeFunction('convertToInteractive',\n",
              "                                                    [key], {});\n",
              "        if (!dataTable) return;\n",
              "\n",
              "        const docLinkHtml = 'Like what you see? Visit the ' +\n",
              "          '<a target=\"_blank\" href=https://colab.research.google.com/notebooks/data_table.ipynb>data table notebook</a>'\n",
              "          + ' to learn more about interactive tables.';\n",
              "        element.innerHTML = '';\n",
              "        dataTable['output_type'] = 'display_data';\n",
              "        await google.colab.output.renderOutput(dataTable, element);\n",
              "        const docLink = document.createElement('div');\n",
              "        docLink.innerHTML = docLinkHtml;\n",
              "        element.appendChild(docLink);\n",
              "      }\n",
              "    </script>\n",
              "  </div>\n",
              "\n",
              "\n",
              "<div id=\"df-5ba933fe-a3b4-4c72-ac4d-d85022574714\">\n",
              "  <button class=\"colab-df-quickchart\" onclick=\"quickchart('df-5ba933fe-a3b4-4c72-ac4d-d85022574714')\"\n",
              "            title=\"Suggest charts\"\n",
              "            style=\"display:none;\">\n",
              "\n",
              "<svg xmlns=\"http://www.w3.org/2000/svg\" height=\"24px\"viewBox=\"0 0 24 24\"\n",
              "     width=\"24px\">\n",
              "    <g>\n",
              "        <path d=\"M19 3H5c-1.1 0-2 .9-2 2v14c0 1.1.9 2 2 2h14c1.1 0 2-.9 2-2V5c0-1.1-.9-2-2-2zM9 17H7v-7h2v7zm4 0h-2V7h2v10zm4 0h-2v-4h2v4z\"/>\n",
              "    </g>\n",
              "</svg>\n",
              "  </button>\n",
              "\n",
              "<style>\n",
              "  .colab-df-quickchart {\n",
              "      --bg-color: #E8F0FE;\n",
              "      --fill-color: #1967D2;\n",
              "      --hover-bg-color: #E2EBFA;\n",
              "      --hover-fill-color: #174EA6;\n",
              "      --disabled-fill-color: #AAA;\n",
              "      --disabled-bg-color: #DDD;\n",
              "  }\n",
              "\n",
              "  [theme=dark] .colab-df-quickchart {\n",
              "      --bg-color: #3B4455;\n",
              "      --fill-color: #D2E3FC;\n",
              "      --hover-bg-color: #434B5C;\n",
              "      --hover-fill-color: #FFFFFF;\n",
              "      --disabled-bg-color: #3B4455;\n",
              "      --disabled-fill-color: #666;\n",
              "  }\n",
              "\n",
              "  .colab-df-quickchart {\n",
              "    background-color: var(--bg-color);\n",
              "    border: none;\n",
              "    border-radius: 50%;\n",
              "    cursor: pointer;\n",
              "    display: none;\n",
              "    fill: var(--fill-color);\n",
              "    height: 32px;\n",
              "    padding: 0;\n",
              "    width: 32px;\n",
              "  }\n",
              "\n",
              "  .colab-df-quickchart:hover {\n",
              "    background-color: var(--hover-bg-color);\n",
              "    box-shadow: 0 1px 2px rgba(60, 64, 67, 0.3), 0 1px 3px 1px rgba(60, 64, 67, 0.15);\n",
              "    fill: var(--button-hover-fill-color);\n",
              "  }\n",
              "\n",
              "  .colab-df-quickchart-complete:disabled,\n",
              "  .colab-df-quickchart-complete:disabled:hover {\n",
              "    background-color: var(--disabled-bg-color);\n",
              "    fill: var(--disabled-fill-color);\n",
              "    box-shadow: none;\n",
              "  }\n",
              "\n",
              "  .colab-df-spinner {\n",
              "    border: 2px solid var(--fill-color);\n",
              "    border-color: transparent;\n",
              "    border-bottom-color: var(--fill-color);\n",
              "    animation:\n",
              "      spin 1s steps(1) infinite;\n",
              "  }\n",
              "\n",
              "  @keyframes spin {\n",
              "    0% {\n",
              "      border-color: transparent;\n",
              "      border-bottom-color: var(--fill-color);\n",
              "      border-left-color: var(--fill-color);\n",
              "    }\n",
              "    20% {\n",
              "      border-color: transparent;\n",
              "      border-left-color: var(--fill-color);\n",
              "      border-top-color: var(--fill-color);\n",
              "    }\n",
              "    30% {\n",
              "      border-color: transparent;\n",
              "      border-left-color: var(--fill-color);\n",
              "      border-top-color: var(--fill-color);\n",
              "      border-right-color: var(--fill-color);\n",
              "    }\n",
              "    40% {\n",
              "      border-color: transparent;\n",
              "      border-right-color: var(--fill-color);\n",
              "      border-top-color: var(--fill-color);\n",
              "    }\n",
              "    60% {\n",
              "      border-color: transparent;\n",
              "      border-right-color: var(--fill-color);\n",
              "    }\n",
              "    80% {\n",
              "      border-color: transparent;\n",
              "      border-right-color: var(--fill-color);\n",
              "      border-bottom-color: var(--fill-color);\n",
              "    }\n",
              "    90% {\n",
              "      border-color: transparent;\n",
              "      border-bottom-color: var(--fill-color);\n",
              "    }\n",
              "  }\n",
              "</style>\n",
              "\n",
              "  <script>\n",
              "    async function quickchart(key) {\n",
              "      const quickchartButtonEl =\n",
              "        document.querySelector('#' + key + ' button');\n",
              "      quickchartButtonEl.disabled = true;  // To prevent multiple clicks.\n",
              "      quickchartButtonEl.classList.add('colab-df-spinner');\n",
              "      try {\n",
              "        const charts = await google.colab.kernel.invokeFunction(\n",
              "            'suggestCharts', [key], {});\n",
              "      } catch (error) {\n",
              "        console.error('Error during call to suggestCharts:', error);\n",
              "      }\n",
              "      quickchartButtonEl.classList.remove('colab-df-spinner');\n",
              "      quickchartButtonEl.classList.add('colab-df-quickchart-complete');\n",
              "    }\n",
              "    (() => {\n",
              "      let quickchartButtonEl =\n",
              "        document.querySelector('#df-5ba933fe-a3b4-4c72-ac4d-d85022574714 button');\n",
              "      quickchartButtonEl.style.display =\n",
              "        google.colab.kernel.accessAllowed ? 'block' : 'none';\n",
              "    })();\n",
              "  </script>\n",
              "</div>\n",
              "\n",
              "    </div>\n",
              "  </div>\n"
            ],
            "application/vnd.google.colaboratory.intrinsic+json": {
              "type": "dataframe",
              "variable_name": "df",
              "summary": "{\n  \"name\": \"df\",\n  \"rows\": 15534,\n  \"fields\": [\n    {\n      \"column\": \"Tag\",\n      \"properties\": {\n        \"dtype\": \"category\",\n        \"num_unique_values\": 144,\n        \"samples\": [\n          \"Producer Price Inflation MoM\",\n          \"Imports\",\n          \"Total Vehicle Sales\"\n        ],\n        \"semantic_type\": \"\",\n        \"description\": \"\"\n      }\n    },\n    {\n      \"column\": \"Content\",\n      \"properties\": {\n        \"dtype\": \"string\",\n        \"num_unique_values\": 15523,\n        \"samples\": [\n          \"DXY Erases GainsUnited States\\u00a0CurrencyThe dollar index fell more than 0.5% to below 105 from an 20-year high of 105.8 hit earlier in the session as risk sentiment returned to markets after it became clear that the Fed is fully committed to fighting the surging inflation. The Federal Reserve hiked the fed funds rate by 75bps, the most since 1994 while Chair Powell signaled a similar move could come at the next meeting but he does not expect 75bps moves to be common. The sharp increase in rates comes after last week the CPI report showed inflation surged unexpectedly to a 41-year high of 8.6% in May. 2022-06-15T19:50:00\",\n          \"US Unemployment Rate Down to 5-1/2 Year LowUnited States\\u00a0Unemployment RateIn April of 2014, the jobless rate fell from 6.7 percent to 6.3 percent, the lowest rate since September of 2008, as both unemployed reentering the labor market and new entrants into the labor force fell.2014-05-02T13:59:50.763\",\n          \"US Service Sector Growth Hits 8-1/2 Year High in JulyUnited States\\u00a0Non Manufacturing PmiISM non-manufacturing index rose to 58.7 in July from 56 in June, the highest since December 2005. The number was boosted by growth in business activity, new orders and employment.2014-08-05T15:13:57.01\"\n        ],\n        \"semantic_type\": \"\",\n        \"description\": \"\"\n      }\n    }\n  ]\n}"
            }
          },
          "metadata": {},
          "execution_count": 3
        }
      ],
      "source": [
        "df=df.drop('Title',axis=1)\n",
        "df.head(5)"
      ]
    },
    {
      "cell_type": "code",
      "execution_count": null,
      "id": "92467361",
      "metadata": {
        "colab": {
          "base_uri": "https://localhost:8080/",
          "height": 143
        },
        "id": "92467361",
        "outputId": "59929002-1ced-41e5-cdd5-856a7d46011e"
      },
      "outputs": [
        {
          "output_type": "execute_result",
          "data": {
            "text/plain": [
              "                                             Content           Tag\n",
              "0  TSX Slightly Down, Books Weekly GainsUnited St...  Stock Market\n",
              "1  UnitedHealth Hits 4-week HighUnited States sto...        stocks\n",
              "2  Cisco Systems Hits 4-week LowUnited States sto...        stocks"
            ],
            "text/html": [
              "\n",
              "  <div id=\"df-a3e3b628-60a8-45fd-81e5-a10d3bfde257\" class=\"colab-df-container\">\n",
              "    <div>\n",
              "<style scoped>\n",
              "    .dataframe tbody tr th:only-of-type {\n",
              "        vertical-align: middle;\n",
              "    }\n",
              "\n",
              "    .dataframe tbody tr th {\n",
              "        vertical-align: top;\n",
              "    }\n",
              "\n",
              "    .dataframe thead th {\n",
              "        text-align: right;\n",
              "    }\n",
              "</style>\n",
              "<table border=\"1\" class=\"dataframe\">\n",
              "  <thead>\n",
              "    <tr style=\"text-align: right;\">\n",
              "      <th></th>\n",
              "      <th>Content</th>\n",
              "      <th>Tag</th>\n",
              "    </tr>\n",
              "  </thead>\n",
              "  <tbody>\n",
              "    <tr>\n",
              "      <th>0</th>\n",
              "      <td>TSX Slightly Down, Books Weekly GainsUnited St...</td>\n",
              "      <td>Stock Market</td>\n",
              "    </tr>\n",
              "    <tr>\n",
              "      <th>1</th>\n",
              "      <td>UnitedHealth Hits 4-week HighUnited States sto...</td>\n",
              "      <td>stocks</td>\n",
              "    </tr>\n",
              "    <tr>\n",
              "      <th>2</th>\n",
              "      <td>Cisco Systems Hits 4-week LowUnited States sto...</td>\n",
              "      <td>stocks</td>\n",
              "    </tr>\n",
              "  </tbody>\n",
              "</table>\n",
              "</div>\n",
              "    <div class=\"colab-df-buttons\">\n",
              "\n",
              "  <div class=\"colab-df-container\">\n",
              "    <button class=\"colab-df-convert\" onclick=\"convertToInteractive('df-a3e3b628-60a8-45fd-81e5-a10d3bfde257')\"\n",
              "            title=\"Convert this dataframe to an interactive table.\"\n",
              "            style=\"display:none;\">\n",
              "\n",
              "  <svg xmlns=\"http://www.w3.org/2000/svg\" height=\"24px\" viewBox=\"0 -960 960 960\">\n",
              "    <path d=\"M120-120v-720h720v720H120Zm60-500h600v-160H180v160Zm220 220h160v-160H400v160Zm0 220h160v-160H400v160ZM180-400h160v-160H180v160Zm440 0h160v-160H620v160ZM180-180h160v-160H180v160Zm440 0h160v-160H620v160Z\"/>\n",
              "  </svg>\n",
              "    </button>\n",
              "\n",
              "  <style>\n",
              "    .colab-df-container {\n",
              "      display:flex;\n",
              "      gap: 12px;\n",
              "    }\n",
              "\n",
              "    .colab-df-convert {\n",
              "      background-color: #E8F0FE;\n",
              "      border: none;\n",
              "      border-radius: 50%;\n",
              "      cursor: pointer;\n",
              "      display: none;\n",
              "      fill: #1967D2;\n",
              "      height: 32px;\n",
              "      padding: 0 0 0 0;\n",
              "      width: 32px;\n",
              "    }\n",
              "\n",
              "    .colab-df-convert:hover {\n",
              "      background-color: #E2EBFA;\n",
              "      box-shadow: 0px 1px 2px rgba(60, 64, 67, 0.3), 0px 1px 3px 1px rgba(60, 64, 67, 0.15);\n",
              "      fill: #174EA6;\n",
              "    }\n",
              "\n",
              "    .colab-df-buttons div {\n",
              "      margin-bottom: 4px;\n",
              "    }\n",
              "\n",
              "    [theme=dark] .colab-df-convert {\n",
              "      background-color: #3B4455;\n",
              "      fill: #D2E3FC;\n",
              "    }\n",
              "\n",
              "    [theme=dark] .colab-df-convert:hover {\n",
              "      background-color: #434B5C;\n",
              "      box-shadow: 0px 1px 3px 1px rgba(0, 0, 0, 0.15);\n",
              "      filter: drop-shadow(0px 1px 2px rgba(0, 0, 0, 0.3));\n",
              "      fill: #FFFFFF;\n",
              "    }\n",
              "  </style>\n",
              "\n",
              "    <script>\n",
              "      const buttonEl =\n",
              "        document.querySelector('#df-a3e3b628-60a8-45fd-81e5-a10d3bfde257 button.colab-df-convert');\n",
              "      buttonEl.style.display =\n",
              "        google.colab.kernel.accessAllowed ? 'block' : 'none';\n",
              "\n",
              "      async function convertToInteractive(key) {\n",
              "        const element = document.querySelector('#df-a3e3b628-60a8-45fd-81e5-a10d3bfde257');\n",
              "        const dataTable =\n",
              "          await google.colab.kernel.invokeFunction('convertToInteractive',\n",
              "                                                    [key], {});\n",
              "        if (!dataTable) return;\n",
              "\n",
              "        const docLinkHtml = 'Like what you see? Visit the ' +\n",
              "          '<a target=\"_blank\" href=https://colab.research.google.com/notebooks/data_table.ipynb>data table notebook</a>'\n",
              "          + ' to learn more about interactive tables.';\n",
              "        element.innerHTML = '';\n",
              "        dataTable['output_type'] = 'display_data';\n",
              "        await google.colab.output.renderOutput(dataTable, element);\n",
              "        const docLink = document.createElement('div');\n",
              "        docLink.innerHTML = docLinkHtml;\n",
              "        element.appendChild(docLink);\n",
              "      }\n",
              "    </script>\n",
              "  </div>\n",
              "\n",
              "\n",
              "<div id=\"df-fdf81b48-332c-42bb-aae3-788ab7c08aeb\">\n",
              "  <button class=\"colab-df-quickchart\" onclick=\"quickchart('df-fdf81b48-332c-42bb-aae3-788ab7c08aeb')\"\n",
              "            title=\"Suggest charts\"\n",
              "            style=\"display:none;\">\n",
              "\n",
              "<svg xmlns=\"http://www.w3.org/2000/svg\" height=\"24px\"viewBox=\"0 0 24 24\"\n",
              "     width=\"24px\">\n",
              "    <g>\n",
              "        <path d=\"M19 3H5c-1.1 0-2 .9-2 2v14c0 1.1.9 2 2 2h14c1.1 0 2-.9 2-2V5c0-1.1-.9-2-2-2zM9 17H7v-7h2v7zm4 0h-2V7h2v10zm4 0h-2v-4h2v4z\"/>\n",
              "    </g>\n",
              "</svg>\n",
              "  </button>\n",
              "\n",
              "<style>\n",
              "  .colab-df-quickchart {\n",
              "      --bg-color: #E8F0FE;\n",
              "      --fill-color: #1967D2;\n",
              "      --hover-bg-color: #E2EBFA;\n",
              "      --hover-fill-color: #174EA6;\n",
              "      --disabled-fill-color: #AAA;\n",
              "      --disabled-bg-color: #DDD;\n",
              "  }\n",
              "\n",
              "  [theme=dark] .colab-df-quickchart {\n",
              "      --bg-color: #3B4455;\n",
              "      --fill-color: #D2E3FC;\n",
              "      --hover-bg-color: #434B5C;\n",
              "      --hover-fill-color: #FFFFFF;\n",
              "      --disabled-bg-color: #3B4455;\n",
              "      --disabled-fill-color: #666;\n",
              "  }\n",
              "\n",
              "  .colab-df-quickchart {\n",
              "    background-color: var(--bg-color);\n",
              "    border: none;\n",
              "    border-radius: 50%;\n",
              "    cursor: pointer;\n",
              "    display: none;\n",
              "    fill: var(--fill-color);\n",
              "    height: 32px;\n",
              "    padding: 0;\n",
              "    width: 32px;\n",
              "  }\n",
              "\n",
              "  .colab-df-quickchart:hover {\n",
              "    background-color: var(--hover-bg-color);\n",
              "    box-shadow: 0 1px 2px rgba(60, 64, 67, 0.3), 0 1px 3px 1px rgba(60, 64, 67, 0.15);\n",
              "    fill: var(--button-hover-fill-color);\n",
              "  }\n",
              "\n",
              "  .colab-df-quickchart-complete:disabled,\n",
              "  .colab-df-quickchart-complete:disabled:hover {\n",
              "    background-color: var(--disabled-bg-color);\n",
              "    fill: var(--disabled-fill-color);\n",
              "    box-shadow: none;\n",
              "  }\n",
              "\n",
              "  .colab-df-spinner {\n",
              "    border: 2px solid var(--fill-color);\n",
              "    border-color: transparent;\n",
              "    border-bottom-color: var(--fill-color);\n",
              "    animation:\n",
              "      spin 1s steps(1) infinite;\n",
              "  }\n",
              "\n",
              "  @keyframes spin {\n",
              "    0% {\n",
              "      border-color: transparent;\n",
              "      border-bottom-color: var(--fill-color);\n",
              "      border-left-color: var(--fill-color);\n",
              "    }\n",
              "    20% {\n",
              "      border-color: transparent;\n",
              "      border-left-color: var(--fill-color);\n",
              "      border-top-color: var(--fill-color);\n",
              "    }\n",
              "    30% {\n",
              "      border-color: transparent;\n",
              "      border-left-color: var(--fill-color);\n",
              "      border-top-color: var(--fill-color);\n",
              "      border-right-color: var(--fill-color);\n",
              "    }\n",
              "    40% {\n",
              "      border-color: transparent;\n",
              "      border-right-color: var(--fill-color);\n",
              "      border-top-color: var(--fill-color);\n",
              "    }\n",
              "    60% {\n",
              "      border-color: transparent;\n",
              "      border-right-color: var(--fill-color);\n",
              "    }\n",
              "    80% {\n",
              "      border-color: transparent;\n",
              "      border-right-color: var(--fill-color);\n",
              "      border-bottom-color: var(--fill-color);\n",
              "    }\n",
              "    90% {\n",
              "      border-color: transparent;\n",
              "      border-bottom-color: var(--fill-color);\n",
              "    }\n",
              "  }\n",
              "</style>\n",
              "\n",
              "  <script>\n",
              "    async function quickchart(key) {\n",
              "      const quickchartButtonEl =\n",
              "        document.querySelector('#' + key + ' button');\n",
              "      quickchartButtonEl.disabled = true;  // To prevent multiple clicks.\n",
              "      quickchartButtonEl.classList.add('colab-df-spinner');\n",
              "      try {\n",
              "        const charts = await google.colab.kernel.invokeFunction(\n",
              "            'suggestCharts', [key], {});\n",
              "      } catch (error) {\n",
              "        console.error('Error during call to suggestCharts:', error);\n",
              "      }\n",
              "      quickchartButtonEl.classList.remove('colab-df-spinner');\n",
              "      quickchartButtonEl.classList.add('colab-df-quickchart-complete');\n",
              "    }\n",
              "    (() => {\n",
              "      let quickchartButtonEl =\n",
              "        document.querySelector('#df-fdf81b48-332c-42bb-aae3-788ab7c08aeb button');\n",
              "      quickchartButtonEl.style.display =\n",
              "        google.colab.kernel.accessAllowed ? 'block' : 'none';\n",
              "    })();\n",
              "  </script>\n",
              "</div>\n",
              "\n",
              "    </div>\n",
              "  </div>\n"
            ],
            "application/vnd.google.colaboratory.intrinsic+json": {
              "type": "dataframe",
              "variable_name": "df",
              "summary": "{\n  \"name\": \"df\",\n  \"rows\": 15534,\n  \"fields\": [\n    {\n      \"column\": \"Content\",\n      \"properties\": {\n        \"dtype\": \"string\",\n        \"num_unique_values\": 15523,\n        \"samples\": [\n          \"DXY Erases GainsUnited States\\u00a0CurrencyThe dollar index fell more than 0.5% to below 105 from an 20-year high of 105.8 hit earlier in the session as risk sentiment returned to markets after it became clear that the Fed is fully committed to fighting the surging inflation. The Federal Reserve hiked the fed funds rate by 75bps, the most since 1994 while Chair Powell signaled a similar move could come at the next meeting but he does not expect 75bps moves to be common. The sharp increase in rates comes after last week the CPI report showed inflation surged unexpectedly to a 41-year high of 8.6% in May. 2022-06-15T19:50:00\",\n          \"US Unemployment Rate Down to 5-1/2 Year LowUnited States\\u00a0Unemployment RateIn April of 2014, the jobless rate fell from 6.7 percent to 6.3 percent, the lowest rate since September of 2008, as both unemployed reentering the labor market and new entrants into the labor force fell.2014-05-02T13:59:50.763\",\n          \"US Service Sector Growth Hits 8-1/2 Year High in JulyUnited States\\u00a0Non Manufacturing PmiISM non-manufacturing index rose to 58.7 in July from 56 in June, the highest since December 2005. The number was boosted by growth in business activity, new orders and employment.2014-08-05T15:13:57.01\"\n        ],\n        \"semantic_type\": \"\",\n        \"description\": \"\"\n      }\n    },\n    {\n      \"column\": \"Tag\",\n      \"properties\": {\n        \"dtype\": \"category\",\n        \"num_unique_values\": 144,\n        \"samples\": [\n          \"Producer Price Inflation MoM\",\n          \"Imports\",\n          \"Total Vehicle Sales\"\n        ],\n        \"semantic_type\": \"\",\n        \"description\": \"\"\n      }\n    }\n  ]\n}"
            }
          },
          "metadata": {},
          "execution_count": 4
        }
      ],
      "source": [
        "col1=df.columns[0]\n",
        "col2=df.columns[1]\n",
        "df=df[[col2,col1]+list(df.columns[2:])]\n",
        "df.head(3)"
      ]
    },
    {
      "cell_type": "code",
      "source": [
        "df['Content']"
      ],
      "metadata": {
        "colab": {
          "base_uri": "https://localhost:8080/"
        },
        "id": "jjXyB3VjGEKU",
        "outputId": "f14d86e6-dae5-4f4c-a766-7ce99b60bb0c"
      },
      "id": "jjXyB3VjGEKU",
      "execution_count": null,
      "outputs": [
        {
          "output_type": "execute_result",
          "data": {
            "text/plain": [
              "0        TSX Slightly Down, Books Weekly GainsUnited St...\n",
              "1        UnitedHealth Hits 4-week HighUnited States sto...\n",
              "2        Cisco Systems Hits 4-week LowUnited States sto...\n",
              "3        AT&T Hits All-time LowUnited States stocksAT&T...\n",
              "4        Microsoft Hits 4-week HighUnited States stocks...\n",
              "                               ...                        \n",
              "15529    United States GDP Rises 0.6 percent in the fir...\n",
              "15530    Consumer Price Index 2.6 percent higher than i...\n",
              "15531    U.S. Federal Reserve Kept Rates Unchanged at 5...\n",
              "15532    Trade Deficit Increases in March 2007United St...\n",
              "15533    Blackstone boosts IPO after Beijing takes $3bn...\n",
              "Name: Content, Length: 15534, dtype: object"
            ]
          },
          "metadata": {},
          "execution_count": 23
        }
      ]
    },
    {
      "cell_type": "code",
      "execution_count": null,
      "id": "5bf7aaf4",
      "metadata": {
        "id": "5bf7aaf4"
      },
      "outputs": [],
      "source": [
        "from sklearn.feature_extraction.text import CountVectorizer,TfidfVectorizer\n",
        "from sklearn.naive_bayes import BernoulliNB,MultinomialNB\n",
        "x=df.iloc[:,:-1]\n",
        "y=df.iloc[:,-1]"
      ]
    },
    {
      "cell_type": "code",
      "execution_count": null,
      "id": "d0787d9f",
      "metadata": {
        "colab": {
          "base_uri": "https://localhost:8080/"
        },
        "id": "d0787d9f",
        "outputId": "8bf10cf6-825c-4fb9-81e5-62d3843857b2"
      },
      "outputs": [
        {
          "output_type": "stream",
          "name": "stdout",
          "text": [
            "(15534, 1)\n",
            "(15534,)\n"
          ]
        }
      ],
      "source": [
        "print(x.shape)\n",
        "print(y.shape)\n"
      ]
    },
    {
      "cell_type": "code",
      "execution_count": null,
      "id": "3310a100",
      "metadata": {
        "id": "3310a100"
      },
      "outputs": [],
      "source": [
        "vectorizer1=CountVectorizer(binary=True)\n",
        "vectorizer2=CountVectorizer(binary=False)"
      ]
    },
    {
      "cell_type": "code",
      "execution_count": null,
      "id": "d8f0536e",
      "metadata": {
        "colab": {
          "base_uri": "https://localhost:8080/"
        },
        "id": "d8f0536e",
        "outputId": "9dccdcc8-2904-4b65-cf86-49d3a8c57b14"
      },
      "outputs": [
        {
          "output_type": "stream",
          "name": "stdout",
          "text": [
            "(15534, 16320)\n",
            "(15534, 16320)\n"
          ]
        }
      ],
      "source": [
        "x1=vectorizer1.fit_transform(df.Content)\n",
        "x2=vectorizer2.fit_transform(df.Content)\n",
        "print(x1.shape)\n",
        "print(x2.shape)"
      ]
    },
    {
      "cell_type": "code",
      "execution_count": null,
      "id": "5cccdd54",
      "metadata": {
        "id": "5cccdd54"
      },
      "outputs": [],
      "source": [
        "from sklearn.model_selection import train_test_split\n",
        "xtrain1,xtest1,ytrain,ytest=train_test_split(x1,y,test_size=0.25,random_state=1)\n",
        "xtrain2,xtest2,ytrain,ytest=train_test_split(x2,y,test_size=0.25,random_state=1)\n",
        "bnb=BernoulliNB()\n",
        "mnb=MultinomialNB()"
      ]
    },
    {
      "cell_type": "code",
      "execution_count": null,
      "id": "fe7ba1da",
      "metadata": {
        "colab": {
          "base_uri": "https://localhost:8080/"
        },
        "id": "fe7ba1da",
        "outputId": "45eacc42-f0fe-4477-a2f2-f31e548511be"
      },
      "outputs": [
        {
          "output_type": "stream",
          "name": "stdout",
          "text": [
            "(11650, 16320)\n",
            "(11650,)\n"
          ]
        }
      ],
      "source": [
        "print(xtrain2.shape)\n",
        "print(ytrain.shape)"
      ]
    },
    {
      "cell_type": "code",
      "execution_count": null,
      "id": "2c9f97b6",
      "metadata": {
        "colab": {
          "base_uri": "https://localhost:8080/",
          "height": 75
        },
        "id": "2c9f97b6",
        "outputId": "f54ce52f-23d3-426b-e841-7eb0ead8ac70"
      },
      "outputs": [
        {
          "output_type": "execute_result",
          "data": {
            "text/plain": [
              "MultinomialNB()"
            ],
            "text/html": [
              "<style>#sk-container-id-1 {color: black;}#sk-container-id-1 pre{padding: 0;}#sk-container-id-1 div.sk-toggleable {background-color: white;}#sk-container-id-1 label.sk-toggleable__label {cursor: pointer;display: block;width: 100%;margin-bottom: 0;padding: 0.3em;box-sizing: border-box;text-align: center;}#sk-container-id-1 label.sk-toggleable__label-arrow:before {content: \"▸\";float: left;margin-right: 0.25em;color: #696969;}#sk-container-id-1 label.sk-toggleable__label-arrow:hover:before {color: black;}#sk-container-id-1 div.sk-estimator:hover label.sk-toggleable__label-arrow:before {color: black;}#sk-container-id-1 div.sk-toggleable__content {max-height: 0;max-width: 0;overflow: hidden;text-align: left;background-color: #f0f8ff;}#sk-container-id-1 div.sk-toggleable__content pre {margin: 0.2em;color: black;border-radius: 0.25em;background-color: #f0f8ff;}#sk-container-id-1 input.sk-toggleable__control:checked~div.sk-toggleable__content {max-height: 200px;max-width: 100%;overflow: auto;}#sk-container-id-1 input.sk-toggleable__control:checked~label.sk-toggleable__label-arrow:before {content: \"▾\";}#sk-container-id-1 div.sk-estimator input.sk-toggleable__control:checked~label.sk-toggleable__label {background-color: #d4ebff;}#sk-container-id-1 div.sk-label input.sk-toggleable__control:checked~label.sk-toggleable__label {background-color: #d4ebff;}#sk-container-id-1 input.sk-hidden--visually {border: 0;clip: rect(1px 1px 1px 1px);clip: rect(1px, 1px, 1px, 1px);height: 1px;margin: -1px;overflow: hidden;padding: 0;position: absolute;width: 1px;}#sk-container-id-1 div.sk-estimator {font-family: monospace;background-color: #f0f8ff;border: 1px dotted black;border-radius: 0.25em;box-sizing: border-box;margin-bottom: 0.5em;}#sk-container-id-1 div.sk-estimator:hover {background-color: #d4ebff;}#sk-container-id-1 div.sk-parallel-item::after {content: \"\";width: 100%;border-bottom: 1px solid gray;flex-grow: 1;}#sk-container-id-1 div.sk-label:hover label.sk-toggleable__label {background-color: #d4ebff;}#sk-container-id-1 div.sk-serial::before {content: \"\";position: absolute;border-left: 1px solid gray;box-sizing: border-box;top: 0;bottom: 0;left: 50%;z-index: 0;}#sk-container-id-1 div.sk-serial {display: flex;flex-direction: column;align-items: center;background-color: white;padding-right: 0.2em;padding-left: 0.2em;position: relative;}#sk-container-id-1 div.sk-item {position: relative;z-index: 1;}#sk-container-id-1 div.sk-parallel {display: flex;align-items: stretch;justify-content: center;background-color: white;position: relative;}#sk-container-id-1 div.sk-item::before, #sk-container-id-1 div.sk-parallel-item::before {content: \"\";position: absolute;border-left: 1px solid gray;box-sizing: border-box;top: 0;bottom: 0;left: 50%;z-index: -1;}#sk-container-id-1 div.sk-parallel-item {display: flex;flex-direction: column;z-index: 1;position: relative;background-color: white;}#sk-container-id-1 div.sk-parallel-item:first-child::after {align-self: flex-end;width: 50%;}#sk-container-id-1 div.sk-parallel-item:last-child::after {align-self: flex-start;width: 50%;}#sk-container-id-1 div.sk-parallel-item:only-child::after {width: 0;}#sk-container-id-1 div.sk-dashed-wrapped {border: 1px dashed gray;margin: 0 0.4em 0.5em 0.4em;box-sizing: border-box;padding-bottom: 0.4em;background-color: white;}#sk-container-id-1 div.sk-label label {font-family: monospace;font-weight: bold;display: inline-block;line-height: 1.2em;}#sk-container-id-1 div.sk-label-container {text-align: center;}#sk-container-id-1 div.sk-container {/* jupyter's `normalize.less` sets `[hidden] { display: none; }` but bootstrap.min.css set `[hidden] { display: none !important; }` so we also need the `!important` here to be able to override the default hidden behavior on the sphinx rendered scikit-learn.org. See: https://github.com/scikit-learn/scikit-learn/issues/21755 */display: inline-block !important;position: relative;}#sk-container-id-1 div.sk-text-repr-fallback {display: none;}</style><div id=\"sk-container-id-1\" class=\"sk-top-container\"><div class=\"sk-text-repr-fallback\"><pre>MultinomialNB()</pre><b>In a Jupyter environment, please rerun this cell to show the HTML representation or trust the notebook. <br />On GitHub, the HTML representation is unable to render, please try loading this page with nbviewer.org.</b></div><div class=\"sk-container\" hidden><div class=\"sk-item\"><div class=\"sk-estimator sk-toggleable\"><input class=\"sk-toggleable__control sk-hidden--visually\" id=\"sk-estimator-id-1\" type=\"checkbox\" checked><label for=\"sk-estimator-id-1\" class=\"sk-toggleable__label sk-toggleable__label-arrow\">MultinomialNB</label><div class=\"sk-toggleable__content\"><pre>MultinomialNB()</pre></div></div></div></div></div>"
            ]
          },
          "metadata": {},
          "execution_count": 11
        }
      ],
      "source": [
        "bnb.fit(xtrain1,ytrain)\n",
        "mnb.fit(xtrain2,ytrain)"
      ]
    },
    {
      "cell_type": "code",
      "execution_count": null,
      "id": "292258e6",
      "metadata": {
        "id": "292258e6"
      },
      "outputs": [],
      "source": [
        "y_pred1=bnb.predict(xtest1)\n",
        "y_pred2=mnb.predict(xtest2)"
      ]
    },
    {
      "cell_type": "code",
      "execution_count": null,
      "id": "8382f668",
      "metadata": {
        "colab": {
          "base_uri": "https://localhost:8080/"
        },
        "id": "8382f668",
        "outputId": "78de7eb6-7bf0-48b9-c005-c8eca21d125e"
      },
      "outputs": [
        {
          "output_type": "execute_result",
          "data": {
            "text/plain": [
              "0.6503604531410917"
            ]
          },
          "metadata": {},
          "execution_count": 13
        }
      ],
      "source": [
        "from sklearn.metrics import accuracy_score\n",
        "accuracy_score(ytest,y_pred1)"
      ]
    },
    {
      "cell_type": "code",
      "execution_count": null,
      "id": "cb8fe0fa",
      "metadata": {
        "colab": {
          "base_uri": "https://localhost:8080/"
        },
        "id": "cb8fe0fa",
        "outputId": "b7ea7aa3-e33d-4a62-c164-2d9c3cf60717"
      },
      "outputs": [
        {
          "output_type": "execute_result",
          "data": {
            "text/plain": [
              "0.893923789907312"
            ]
          },
          "metadata": {},
          "execution_count": 14
        }
      ],
      "source": [
        "accuracy_score(ytest,y_pred2)"
      ]
    },
    {
      "cell_type": "code",
      "source": [
        "#using MultinomialNB accuracy with CountVectorizer to check predicted and actual tag of certain tag\n",
        "record_index = 12\n",
        "record_text = df.iloc[record_index]['Content']\n",
        "record_tag = df.iloc[record_index]['Tag']\n",
        "record_vectorized = vectorizer2.transform([record_text])\n",
        "prediction = mnb.predict(record_vectorized)\n",
        "print(f\"Predicted tag for record {record_index}: {prediction[0]}\")\n",
        "print(f\"Actual tag for record {record_index}:{record_tag}\")"
      ],
      "metadata": {
        "colab": {
          "base_uri": "https://localhost:8080/"
        },
        "id": "YIYEzNBNLgEG",
        "outputId": "5828843a-ed4d-4ca5-92c7-a287cc6ec30a"
      },
      "id": "YIYEzNBNLgEG",
      "execution_count": null,
      "outputs": [
        {
          "output_type": "stream",
          "name": "stdout",
          "text": [
            "Predicted tag for record 12: Currency\n",
            "Actual tag for record 12:Currency\n"
          ]
        }
      ]
    },
    {
      "cell_type": "code",
      "execution_count": null,
      "id": "aebd6923",
      "metadata": {
        "id": "aebd6923"
      },
      "outputs": [],
      "source": [
        "from sklearn.feature_extraction.text import TfidfVectorizer"
      ]
    },
    {
      "cell_type": "code",
      "source": [
        "vectorizer=TfidfVectorizer()\n",
        "x_tf=vectorizer.fit_transform(df.Content)"
      ],
      "metadata": {
        "id": "nSxFNmt37cEX"
      },
      "id": "nSxFNmt37cEX",
      "execution_count": null,
      "outputs": []
    },
    {
      "cell_type": "code",
      "execution_count": null,
      "id": "a65b4974",
      "metadata": {
        "id": "a65b4974"
      },
      "outputs": [],
      "source": [
        "xtrain3,xtest3,ytrain,ytest=train_test_split(x_tf,y,test_size=0.25,random_state=1)"
      ]
    },
    {
      "cell_type": "code",
      "execution_count": null,
      "id": "4d5eebb5",
      "metadata": {
        "colab": {
          "base_uri": "https://localhost:8080/"
        },
        "id": "4d5eebb5",
        "outputId": "6c61b329-935f-45e7-b4cd-222bb83af7d2"
      },
      "outputs": [
        {
          "output_type": "stream",
          "name": "stdout",
          "text": [
            "(11650, 16320)\n",
            "(11650,)\n"
          ]
        }
      ],
      "source": [
        "print(xtrain3.shape)\n",
        "print(ytrain.shape)\n"
      ]
    },
    {
      "cell_type": "code",
      "execution_count": null,
      "id": "36a19923",
      "metadata": {
        "colab": {
          "base_uri": "https://localhost:8080/",
          "height": 75
        },
        "id": "36a19923",
        "outputId": "23e5ab70-12e7-42b6-e3a0-20223eaaa503"
      },
      "outputs": [
        {
          "output_type": "execute_result",
          "data": {
            "text/plain": [
              "MultinomialNB()"
            ],
            "text/html": [
              "<style>#sk-container-id-2 {color: black;}#sk-container-id-2 pre{padding: 0;}#sk-container-id-2 div.sk-toggleable {background-color: white;}#sk-container-id-2 label.sk-toggleable__label {cursor: pointer;display: block;width: 100%;margin-bottom: 0;padding: 0.3em;box-sizing: border-box;text-align: center;}#sk-container-id-2 label.sk-toggleable__label-arrow:before {content: \"▸\";float: left;margin-right: 0.25em;color: #696969;}#sk-container-id-2 label.sk-toggleable__label-arrow:hover:before {color: black;}#sk-container-id-2 div.sk-estimator:hover label.sk-toggleable__label-arrow:before {color: black;}#sk-container-id-2 div.sk-toggleable__content {max-height: 0;max-width: 0;overflow: hidden;text-align: left;background-color: #f0f8ff;}#sk-container-id-2 div.sk-toggleable__content pre {margin: 0.2em;color: black;border-radius: 0.25em;background-color: #f0f8ff;}#sk-container-id-2 input.sk-toggleable__control:checked~div.sk-toggleable__content {max-height: 200px;max-width: 100%;overflow: auto;}#sk-container-id-2 input.sk-toggleable__control:checked~label.sk-toggleable__label-arrow:before {content: \"▾\";}#sk-container-id-2 div.sk-estimator input.sk-toggleable__control:checked~label.sk-toggleable__label {background-color: #d4ebff;}#sk-container-id-2 div.sk-label input.sk-toggleable__control:checked~label.sk-toggleable__label {background-color: #d4ebff;}#sk-container-id-2 input.sk-hidden--visually {border: 0;clip: rect(1px 1px 1px 1px);clip: rect(1px, 1px, 1px, 1px);height: 1px;margin: -1px;overflow: hidden;padding: 0;position: absolute;width: 1px;}#sk-container-id-2 div.sk-estimator {font-family: monospace;background-color: #f0f8ff;border: 1px dotted black;border-radius: 0.25em;box-sizing: border-box;margin-bottom: 0.5em;}#sk-container-id-2 div.sk-estimator:hover {background-color: #d4ebff;}#sk-container-id-2 div.sk-parallel-item::after {content: \"\";width: 100%;border-bottom: 1px solid gray;flex-grow: 1;}#sk-container-id-2 div.sk-label:hover label.sk-toggleable__label {background-color: #d4ebff;}#sk-container-id-2 div.sk-serial::before {content: \"\";position: absolute;border-left: 1px solid gray;box-sizing: border-box;top: 0;bottom: 0;left: 50%;z-index: 0;}#sk-container-id-2 div.sk-serial {display: flex;flex-direction: column;align-items: center;background-color: white;padding-right: 0.2em;padding-left: 0.2em;position: relative;}#sk-container-id-2 div.sk-item {position: relative;z-index: 1;}#sk-container-id-2 div.sk-parallel {display: flex;align-items: stretch;justify-content: center;background-color: white;position: relative;}#sk-container-id-2 div.sk-item::before, #sk-container-id-2 div.sk-parallel-item::before {content: \"\";position: absolute;border-left: 1px solid gray;box-sizing: border-box;top: 0;bottom: 0;left: 50%;z-index: -1;}#sk-container-id-2 div.sk-parallel-item {display: flex;flex-direction: column;z-index: 1;position: relative;background-color: white;}#sk-container-id-2 div.sk-parallel-item:first-child::after {align-self: flex-end;width: 50%;}#sk-container-id-2 div.sk-parallel-item:last-child::after {align-self: flex-start;width: 50%;}#sk-container-id-2 div.sk-parallel-item:only-child::after {width: 0;}#sk-container-id-2 div.sk-dashed-wrapped {border: 1px dashed gray;margin: 0 0.4em 0.5em 0.4em;box-sizing: border-box;padding-bottom: 0.4em;background-color: white;}#sk-container-id-2 div.sk-label label {font-family: monospace;font-weight: bold;display: inline-block;line-height: 1.2em;}#sk-container-id-2 div.sk-label-container {text-align: center;}#sk-container-id-2 div.sk-container {/* jupyter's `normalize.less` sets `[hidden] { display: none; }` but bootstrap.min.css set `[hidden] { display: none !important; }` so we also need the `!important` here to be able to override the default hidden behavior on the sphinx rendered scikit-learn.org. See: https://github.com/scikit-learn/scikit-learn/issues/21755 */display: inline-block !important;position: relative;}#sk-container-id-2 div.sk-text-repr-fallback {display: none;}</style><div id=\"sk-container-id-2\" class=\"sk-top-container\"><div class=\"sk-text-repr-fallback\"><pre>MultinomialNB()</pre><b>In a Jupyter environment, please rerun this cell to show the HTML representation or trust the notebook. <br />On GitHub, the HTML representation is unable to render, please try loading this page with nbviewer.org.</b></div><div class=\"sk-container\" hidden><div class=\"sk-item\"><div class=\"sk-estimator sk-toggleable\"><input class=\"sk-toggleable__control sk-hidden--visually\" id=\"sk-estimator-id-2\" type=\"checkbox\" checked><label for=\"sk-estimator-id-2\" class=\"sk-toggleable__label sk-toggleable__label-arrow\">MultinomialNB</label><div class=\"sk-toggleable__content\"><pre>MultinomialNB()</pre></div></div></div></div></div>"
            ]
          },
          "metadata": {},
          "execution_count": 19
        }
      ],
      "source": [
        "mnb.fit(xtrain3,ytrain)"
      ]
    },
    {
      "cell_type": "code",
      "execution_count": null,
      "id": "7e65b17a",
      "metadata": {
        "id": "7e65b17a"
      },
      "outputs": [],
      "source": [
        "predictions_tf=mnb.predict(xtest3)"
      ]
    },
    {
      "cell_type": "code",
      "execution_count": null,
      "id": "20c15800",
      "metadata": {
        "colab": {
          "base_uri": "https://localhost:8080/"
        },
        "id": "20c15800",
        "outputId": "c651b0ad-5aef-4924-f89d-bdaa3d437073"
      },
      "outputs": [
        {
          "output_type": "execute_result",
          "data": {
            "text/plain": [
              "0.5715756951596292"
            ]
          },
          "metadata": {},
          "execution_count": 21
        }
      ],
      "source": [
        "accuracy_score(ytest,predictions_tf)"
      ]
    },
    {
      "cell_type": "code",
      "source": [
        "print('BernoulliNB accuracy:', accuracy_score(ytest,y_pred1))\n",
        "print('MultinomialNB accuracy with CountVectorizer:', accuracy_score(ytest,y_pred2))\n",
        "print('MultinomialNB accuracy with TfidfVectorizer:', accuracy_score(ytest,predictions_tf))"
      ],
      "metadata": {
        "colab": {
          "base_uri": "https://localhost:8080/"
        },
        "id": "hWnaEcH5Bm1r",
        "outputId": "8331158b-9ad0-4ed8-fc4f-887de344b019"
      },
      "id": "hWnaEcH5Bm1r",
      "execution_count": null,
      "outputs": [
        {
          "output_type": "stream",
          "name": "stdout",
          "text": [
            "BernoulliNB accuracy: 0.6503604531410917\n",
            "MultinomialNB accuracy with CountVectorizer: 0.893923789907312\n",
            "MultinomialNB accuracy with TfidfVectorizer: 0.5715756951596292\n"
          ]
        }
      ]
    },
    {
      "cell_type": "markdown",
      "source": [
        "Multinomial NB with CountVectorizer gives better accuracy compared to bernoulli and multinomial with TFIDF vectorizer for the FinSen_US dataset."
      ],
      "metadata": {
        "id": "9QpC_PAhB_6z"
      },
      "id": "9QpC_PAhB_6z"
    }
  ],
  "metadata": {
    "kernelspec": {
      "display_name": "Python 3",
      "language": "python",
      "name": "python3"
    },
    "language_info": {
      "codemirror_mode": {
        "name": "ipython",
        "version": 3
      },
      "file_extension": ".py",
      "mimetype": "text/x-python",
      "name": "python",
      "nbconvert_exporter": "python",
      "pygments_lexer": "ipython3",
      "version": "3.8.8"
    },
    "colab": {
      "provenance": []
    }
  },
  "nbformat": 4,
  "nbformat_minor": 5
}